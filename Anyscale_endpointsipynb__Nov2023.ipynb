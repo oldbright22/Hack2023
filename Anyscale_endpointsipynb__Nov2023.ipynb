{
 "cells": [
  {
   "cell_type": "code",
   "execution_count": 19,
   "metadata": {
    "id": "LzvRuJJSHpo1"
   },
   "outputs": [
    {
     "name": "stdout",
     "output_type": "stream",
     "text": [
      "Defaulting to user installation because normal site-packages is not writeable\n",
      "Collecting opentelemetry-util-http==0.42b0\n",
      "  Using cached opentelemetry_util_http-0.42b0-py3-none-any.whl.metadata (2.5 kB)\n",
      "Using cached opentelemetry_util_http-0.42b0-py3-none-any.whl (6.9 kB)\n",
      "Installing collected packages: opentelemetry-util-http\n",
      "  Attempting uninstall: opentelemetry-util-http\n",
      "    Found existing installation: opentelemetry-util-http 0.41b0\n",
      "    Uninstalling opentelemetry-util-http-0.41b0:\n",
      "      Successfully uninstalled opentelemetry-util-http-0.41b0\n",
      "Successfully installed opentelemetry-util-http-0.42b0\n"
     ]
    }
   ],
   "source": [
    "!pip install opentelemetry-util-http==0.42b0"
   ]
  },
  {
   "cell_type": "code",
   "execution_count": 20,
   "metadata": {},
   "outputs": [
    {
     "name": "stdout",
     "output_type": "stream",
     "text": [
      "Defaulting to user installation because normal site-packages is not writeable\n",
      "Requirement already satisfied: h5py in c:\\users\\btina\\appdata\\roaming\\python\\python310\\site-packages (3.10.0)\n",
      "Requirement already satisfied: numpy>=1.17.3 in c:\\programdata\\miniconda3\\lib\\site-packages (from h5py) (1.25.0)\n"
     ]
    }
   ],
   "source": [
    "!pip install h5py"
   ]
  },
  {
   "cell_type": "code",
   "execution_count": 21,
   "metadata": {},
   "outputs": [
    {
     "name": "stdout",
     "output_type": "stream",
     "text": [
      "Defaulting to user installation because normal site-packages is not writeable\n",
      "Requirement already satisfied: typing-extensions in c:\\users\\btina\\appdata\\roaming\\python\\python310\\site-packages (4.5.0)\n"
     ]
    }
   ],
   "source": [
    "!pip install typing-extensions"
   ]
  },
  {
   "cell_type": "code",
   "execution_count": 22,
   "metadata": {},
   "outputs": [
    {
     "name": "stdout",
     "output_type": "stream",
     "text": [
      "Defaulting to user installation because normal site-packages is not writeable\n",
      "Requirement already satisfied: wheel in c:\\programdata\\miniconda3\\lib\\site-packages (0.38.4)\n"
     ]
    }
   ],
   "source": [
    "!pip install wheel"
   ]
  },
  {
   "cell_type": "code",
   "execution_count": null,
   "metadata": {},
   "outputs": [],
   "source": [
    "#!pip uninstall langflow"
   ]
  },
  {
   "cell_type": "code",
   "execution_count": null,
   "metadata": {
    "id": "xmJpvFhHGgot"
   },
   "outputs": [],
   "source": [
    "!pip install langflow==0.5.7"
   ]
  },
  {
   "cell_type": "code",
   "execution_count": null,
   "metadata": {
    "id": "IABp2sJIG4YA"
   },
   "outputs": [],
   "source": [
    "!python -m langflow"
   ]
  },
  {
   "cell_type": "code",
   "execution_count": null,
   "metadata": {
    "id": "JC-FvwC1o6M1"
   },
   "outputs": [],
   "source": [
    "#!pip uninstall openai"
   ]
  },
  {
   "cell_type": "code",
   "execution_count": null,
   "metadata": {},
   "outputs": [],
   "source": [
    "!pip install openai==0.27.8"
   ]
  },
  {
   "cell_type": "code",
   "execution_count": null,
   "metadata": {
    "id": "dYaFJ2-UPRXq"
   },
   "outputs": [],
   "source": [
    "#%pip install openai\n",
    "#!pip install --upgrade openai"
   ]
  },
  {
   "cell_type": "markdown",
   "metadata": {
    "id": "2JshLsEYK9I1"
   },
   "source": [
    "## Testing The OpenAI call with Anyscale Endpoints"
   ]
  },
  {
   "cell_type": "code",
   "execution_count": null,
   "metadata": {
    "id": "x-97Io4RnffZ"
   },
   "outputs": [],
   "source": [
    "import openai"
   ]
  },
  {
   "cell_type": "code",
   "execution_count": null,
   "metadata": {},
   "outputs": [],
   "source": [
    "from openai.types import chat"
   ]
  },
  {
   "cell_type": "code",
   "execution_count": null,
   "metadata": {
    "id": "QPEhNCp3onTV"
   },
   "outputs": [],
   "source": [
    "from openai.types import chat\n",
    "import openai\n",
    "openai.api_key = \"YOUR_OPENAI_API_KEY\"\n",
    "\n",
    "system_content = \"You will be provided with a product description and seed words. Your task is to generate potential product names.\"\n",
    "user_content = \"Product description: A home milkshake maker. Seed words: fast, healthy, compact.\"\n",
    "chat_completion = openai.chat.completions.create(\n",
    "    model=\"gpt-3.5-turbo-0301\",\n",
    "    messages=[{\"role\": \"system\", \"content\": system_content},\n",
    "              {\"role\": \"user\", \"content\": user_content}],\n",
    "    temperature=0.7\n",
    ")\n",
    "#product_names = chat_completion[\"choices\"][0][\"message\"][\"content\"]\n",
    "#print(\"Results from the OpenAI endpoint:\\n\", product_names)\n",
    "print(chat_completion.choices[0].message.content)"
   ]
  },
  {
   "cell_type": "code",
   "execution_count": null,
   "metadata": {
    "id": "XYF708dMpGLE"
   },
   "outputs": [],
   "source": [
    "#It should return an error due to changes and openai Update recently , if it didn't then it's fixed\n",
    "\n",
    "chat_completion = openai.chat.completions.create(\n",
    "    api_base = \"https://api.endpoints.anyscale.com/v1\",\n",
    "    api_key=\"esecret_hanjm9lbkdr62f7csy3fem5fvy\",\n",
    "    model=\"meta-llama/Llama-2-70b-chat-hf\",\n",
    "    messages=[{\"role\": \"system\", \"content\": system_content},\n",
    "              {\"role\": \"user\", \"content\": user_content}],\n",
    "    temperature=0.7\n",
    ")\n",
    "\n",
    "product_names = chat_completion[\"choices\"][0][\"message\"][\"content\"]\n",
    "print(\"Results from Anyscale Endpoint:\\n\", product_names)"
   ]
  },
  {
   "cell_type": "markdown",
   "metadata": {
    "id": "sU-5cmrqLz9v"
   },
   "source": [
    "# Anyscale Endpoints direct Query\n",
    "This is the direct connection to access Open source LLM like LLama2-70b, llama2-13b etc If using Premium version of anyscale you could finetune models and use custom models. you can define a function to avoid rewriting the code just tweak with some indentation using *def* keyword"
   ]
  },
  {
   "cell_type": "code",
   "execution_count": null,
   "metadata": {
    "id": "oExOVYptxslR"
   },
   "outputs": [],
   "source": [
    "query = 'who are you?'"
   ]
  },
  {
   "cell_type": "code",
   "execution_count": null,
   "metadata": {
    "id": "rQBdpioXxCuT"
   },
   "outputs": [],
   "source": [
    "import os\n",
    "import requests\n",
    "\n",
    "\n",
    "s = requests.Session()\n",
    "\n",
    "#api_base = os.getenv(\"OPENAI_API_BASE\")\n",
    "#token = os.getenv(\"OPENAI_API_KEY\")\n",
    "api_base = \"https://api.endpoints.anyscale.com/v1\"\n",
    "token = \"esecret_4fvbprd1pf4t1fziay6fpz1elg\"\n",
    "url = f\"{api_base}/chat/completions\"\n",
    "body = {\n",
    "  \"model\": \"meta-llama/Llama-2-70b-chat-hf\",\n",
    "  \"messages\": [{\"role\": \"system\", \"content\": \"Your name is Kamal and you are a helpful doctor.\"}, {\"role\": \"user\", \"content\": query}],\n",
    "  \"temperature\": 0.7\n",
    "}\n",
    "\n",
    "response = s.post(url, headers={\"Authorization\": f\"Bearer {token}\"}, json=body)\n",
    "\n",
    "if response.status_code == 200:\n",
    "    response_json = response.json()\n",
    "    chatbot_response = response_json[\"choices\"][0][\"message\"][\"content\"]\n",
    "    print(\"Chatbot Response:\")\n",
    "    print(chatbot_response)\n",
    "else:\n",
    "    print(f\"Request failed with status code: {response.status_code}\")\n"
   ]
  }
 ],
 "metadata": {
  "colab": {
   "provenance": []
  },
  "kernelspec": {
   "display_name": "Python 3 (ipykernel)",
   "language": "python",
   "name": "python3"
  },
  "language_info": {
   "codemirror_mode": {
    "name": "ipython",
    "version": 3
   },
   "file_extension": ".py",
   "mimetype": "text/x-python",
   "name": "python",
   "nbconvert_exporter": "python",
   "pygments_lexer": "ipython3",
   "version": "3.10.11"
  }
 },
 "nbformat": 4,
 "nbformat_minor": 1
}
